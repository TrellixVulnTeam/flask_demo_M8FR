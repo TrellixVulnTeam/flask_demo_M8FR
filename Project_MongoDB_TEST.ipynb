{
 "cells": [
  {
   "cell_type": "code",
   "execution_count": null,
   "source": [],
   "outputs": [],
   "metadata": {}
  },
  {
   "cell_type": "code",
   "execution_count": 8,
   "source": [
    "#SH\n",
    "#pip install yfinance\n",
    "!pip3 install pymongo"
   ],
   "outputs": [
    {
     "output_type": "stream",
     "name": "stdout",
     "text": [
      "Requirement already satisfied: pymongo in /Users/daisy/Documents/Grad/MD/flask_demo/venv/lib/python3.9/site-packages (4.0)\n"
     ]
    }
   ],
   "metadata": {
    "id": "ce270849-d49d-452c-8a34-4d6375f74201",
    "tags": []
   }
  },
  {
   "cell_type": "code",
   "execution_count": 9,
   "source": [
    "#SH\n",
    "import yfinance as yf #Allows us to Use Yahoo Finance API \n",
    "import pandas as pd\n",
    "import numpy as np\n",
    "import json\n",
    "import datetime \n",
    "import requests\n",
    "import pymongo\n",
    "import requests"
   ],
   "outputs": [
    {
     "output_type": "error",
     "ename": "ImportError",
     "evalue": "cannot import name '_raw_to_dict' from 'bson' (/Users/daisy/Documents/Grad/MD/flask_demo/venv/lib/python3.9/site-packages/bson/__init__.py)",
     "traceback": [
      "\u001b[0;31m---------------------------------------------------------------------------\u001b[0m",
      "\u001b[0;31mImportError\u001b[0m                               Traceback (most recent call last)",
      "\u001b[0;32m/var/folders/lk/7ht1f7_s2vl5xsbkcb__594c0000gn/T/ipykernel_4365/1195789389.py\u001b[0m in \u001b[0;36m<module>\u001b[0;34m\u001b[0m\n\u001b[1;32m      6\u001b[0m \u001b[0;32mimport\u001b[0m \u001b[0mdatetime\u001b[0m\u001b[0;34m\u001b[0m\u001b[0;34m\u001b[0m\u001b[0m\n\u001b[1;32m      7\u001b[0m \u001b[0;32mimport\u001b[0m \u001b[0mrequests\u001b[0m\u001b[0;34m\u001b[0m\u001b[0;34m\u001b[0m\u001b[0m\n\u001b[0;32m----> 8\u001b[0;31m \u001b[0;32mimport\u001b[0m \u001b[0mpymongo\u001b[0m\u001b[0;34m\u001b[0m\u001b[0;34m\u001b[0m\u001b[0m\n\u001b[0m\u001b[1;32m      9\u001b[0m \u001b[0;32mimport\u001b[0m \u001b[0mrequests\u001b[0m\u001b[0;34m\u001b[0m\u001b[0;34m\u001b[0m\u001b[0m\n",
      "\u001b[0;32m~/Documents/Grad/MD/flask_demo/venv/lib/python3.9/site-packages/pymongo/__init__.py\u001b[0m in \u001b[0;36m<module>\u001b[0;34m\u001b[0m\n\u001b[1;32m     64\u001b[0m \u001b[0;34m\"\"\"Current version of PyMongo.\"\"\"\u001b[0m\u001b[0;34m\u001b[0m\u001b[0;34m\u001b[0m\u001b[0m\n\u001b[1;32m     65\u001b[0m \u001b[0;34m\u001b[0m\u001b[0m\n\u001b[0;32m---> 66\u001b[0;31m \u001b[0;32mfrom\u001b[0m \u001b[0mpymongo\u001b[0m\u001b[0;34m.\u001b[0m\u001b[0mcollection\u001b[0m \u001b[0;32mimport\u001b[0m \u001b[0mReturnDocument\u001b[0m\u001b[0;34m\u001b[0m\u001b[0;34m\u001b[0m\u001b[0m\n\u001b[0m\u001b[1;32m     67\u001b[0m from pymongo.common import (MIN_SUPPORTED_WIRE_VERSION,\n\u001b[1;32m     68\u001b[0m                             MAX_SUPPORTED_WIRE_VERSION)\n",
      "\u001b[0;32m~/Documents/Grad/MD/flask_demo/venv/lib/python3.9/site-packages/pymongo/collection.py\u001b[0m in \u001b[0;36m<module>\u001b[0;34m\u001b[0m\n\u001b[1;32m     22\u001b[0m \u001b[0;32mfrom\u001b[0m \u001b[0mbson\u001b[0m\u001b[0;34m.\u001b[0m\u001b[0mcode\u001b[0m \u001b[0;32mimport\u001b[0m \u001b[0mCode\u001b[0m\u001b[0;34m\u001b[0m\u001b[0;34m\u001b[0m\u001b[0m\n\u001b[1;32m     23\u001b[0m \u001b[0;32mfrom\u001b[0m \u001b[0mbson\u001b[0m\u001b[0;34m.\u001b[0m\u001b[0mobjectid\u001b[0m \u001b[0;32mimport\u001b[0m \u001b[0mObjectId\u001b[0m\u001b[0;34m\u001b[0m\u001b[0;34m\u001b[0m\u001b[0m\n\u001b[0;32m---> 24\u001b[0;31m \u001b[0;32mfrom\u001b[0m \u001b[0mbson\u001b[0m\u001b[0;34m.\u001b[0m\u001b[0mraw_bson\u001b[0m \u001b[0;32mimport\u001b[0m \u001b[0mRawBSONDocument\u001b[0m\u001b[0;34m\u001b[0m\u001b[0;34m\u001b[0m\u001b[0m\n\u001b[0m\u001b[1;32m     25\u001b[0m \u001b[0;32mfrom\u001b[0m \u001b[0mbson\u001b[0m\u001b[0;34m.\u001b[0m\u001b[0mcodec_options\u001b[0m \u001b[0;32mimport\u001b[0m \u001b[0mCodecOptions\u001b[0m\u001b[0;34m\u001b[0m\u001b[0;34m\u001b[0m\u001b[0m\n\u001b[1;32m     26\u001b[0m \u001b[0;32mfrom\u001b[0m \u001b[0mbson\u001b[0m\u001b[0;34m.\u001b[0m\u001b[0mson\u001b[0m \u001b[0;32mimport\u001b[0m \u001b[0mSON\u001b[0m\u001b[0;34m\u001b[0m\u001b[0;34m\u001b[0m\u001b[0m\n",
      "\u001b[0;32m~/Documents/Grad/MD/flask_demo/venv/lib/python3.9/site-packages/bson/raw_bson.py\u001b[0m in \u001b[0;36m<module>\u001b[0;34m\u001b[0m\n\u001b[1;32m     54\u001b[0m \u001b[0;32mfrom\u001b[0m \u001b[0mcollections\u001b[0m\u001b[0;34m.\u001b[0m\u001b[0mabc\u001b[0m \u001b[0;32mimport\u001b[0m \u001b[0mMapping\u001b[0m \u001b[0;32mas\u001b[0m \u001b[0m_Mapping\u001b[0m\u001b[0;34m\u001b[0m\u001b[0;34m\u001b[0m\u001b[0m\n\u001b[1;32m     55\u001b[0m \u001b[0;34m\u001b[0m\u001b[0m\n\u001b[0;32m---> 56\u001b[0;31m \u001b[0;32mfrom\u001b[0m \u001b[0mbson\u001b[0m \u001b[0;32mimport\u001b[0m \u001b[0m_raw_to_dict\u001b[0m\u001b[0;34m,\u001b[0m \u001b[0m_get_object_size\u001b[0m\u001b[0;34m\u001b[0m\u001b[0;34m\u001b[0m\u001b[0m\n\u001b[0m\u001b[1;32m     57\u001b[0m from bson.codec_options import (\n\u001b[1;32m     58\u001b[0m     DEFAULT_CODEC_OPTIONS as DEFAULT, _RAW_BSON_DOCUMENT_MARKER)\n",
      "\u001b[0;31mImportError\u001b[0m: cannot import name '_raw_to_dict' from 'bson' (/Users/daisy/Documents/Grad/MD/flask_demo/venv/lib/python3.9/site-packages/bson/__init__.py)"
     ]
    }
   ],
   "metadata": {
    "id": "3cd451fe-9e58-4e91-920c-77205083c69c"
   }
  },
  {
   "cell_type": "code",
   "execution_count": 7,
   "source": [
    "#SH\n",
    "from pymongo import MongoClient\n",
    "client = MongoClient('localhost',27017) ## or MongoClient(\"localhost:27\")\n",
    "db = client.apan5400"
   ],
   "outputs": [
    {
     "output_type": "error",
     "ename": "ImportError",
     "evalue": "cannot import name '_raw_to_dict' from 'bson' (/Users/daisy/Documents/Grad/MD/flask_demo/venv/lib/python3.9/site-packages/bson/__init__.py)",
     "traceback": [
      "\u001b[0;31m---------------------------------------------------------------------------\u001b[0m",
      "\u001b[0;31mImportError\u001b[0m                               Traceback (most recent call last)",
      "\u001b[0;32m/var/folders/lk/7ht1f7_s2vl5xsbkcb__594c0000gn/T/ipykernel_4365/3075070762.py\u001b[0m in \u001b[0;36m<module>\u001b[0;34m\u001b[0m\n\u001b[1;32m      1\u001b[0m \u001b[0;31m#SH\u001b[0m\u001b[0;34m\u001b[0m\u001b[0;34m\u001b[0m\u001b[0m\n\u001b[0;32m----> 2\u001b[0;31m \u001b[0;32mfrom\u001b[0m \u001b[0mpymongo\u001b[0m \u001b[0;32mimport\u001b[0m \u001b[0mMongoClient\u001b[0m\u001b[0;34m\u001b[0m\u001b[0;34m\u001b[0m\u001b[0m\n\u001b[0m\u001b[1;32m      3\u001b[0m \u001b[0mclient\u001b[0m \u001b[0;34m=\u001b[0m \u001b[0mMongoClient\u001b[0m\u001b[0;34m(\u001b[0m\u001b[0;34m'localhost'\u001b[0m\u001b[0;34m,\u001b[0m\u001b[0;36m27017\u001b[0m\u001b[0;34m)\u001b[0m \u001b[0;31m## or MongoClient(\"localhost:27\")\u001b[0m\u001b[0;34m\u001b[0m\u001b[0;34m\u001b[0m\u001b[0m\n\u001b[1;32m      4\u001b[0m \u001b[0mdb\u001b[0m \u001b[0;34m=\u001b[0m \u001b[0mclient\u001b[0m\u001b[0;34m.\u001b[0m\u001b[0mapan5400\u001b[0m\u001b[0;34m\u001b[0m\u001b[0;34m\u001b[0m\u001b[0m\n",
      "\u001b[0;32m~/Documents/Grad/MD/flask_demo/venv/lib/python3.9/site-packages/pymongo/__init__.py\u001b[0m in \u001b[0;36m<module>\u001b[0;34m\u001b[0m\n\u001b[1;32m     64\u001b[0m \u001b[0;34m\"\"\"Current version of PyMongo.\"\"\"\u001b[0m\u001b[0;34m\u001b[0m\u001b[0;34m\u001b[0m\u001b[0m\n\u001b[1;32m     65\u001b[0m \u001b[0;34m\u001b[0m\u001b[0m\n\u001b[0;32m---> 66\u001b[0;31m \u001b[0;32mfrom\u001b[0m \u001b[0mpymongo\u001b[0m\u001b[0;34m.\u001b[0m\u001b[0mcollection\u001b[0m \u001b[0;32mimport\u001b[0m \u001b[0mReturnDocument\u001b[0m\u001b[0;34m\u001b[0m\u001b[0;34m\u001b[0m\u001b[0m\n\u001b[0m\u001b[1;32m     67\u001b[0m from pymongo.common import (MIN_SUPPORTED_WIRE_VERSION,\n\u001b[1;32m     68\u001b[0m                             MAX_SUPPORTED_WIRE_VERSION)\n",
      "\u001b[0;32m~/Documents/Grad/MD/flask_demo/venv/lib/python3.9/site-packages/pymongo/collection.py\u001b[0m in \u001b[0;36m<module>\u001b[0;34m\u001b[0m\n\u001b[1;32m     22\u001b[0m \u001b[0;32mfrom\u001b[0m \u001b[0mbson\u001b[0m\u001b[0;34m.\u001b[0m\u001b[0mcode\u001b[0m \u001b[0;32mimport\u001b[0m \u001b[0mCode\u001b[0m\u001b[0;34m\u001b[0m\u001b[0;34m\u001b[0m\u001b[0m\n\u001b[1;32m     23\u001b[0m \u001b[0;32mfrom\u001b[0m \u001b[0mbson\u001b[0m\u001b[0;34m.\u001b[0m\u001b[0mobjectid\u001b[0m \u001b[0;32mimport\u001b[0m \u001b[0mObjectId\u001b[0m\u001b[0;34m\u001b[0m\u001b[0;34m\u001b[0m\u001b[0m\n\u001b[0;32m---> 24\u001b[0;31m \u001b[0;32mfrom\u001b[0m \u001b[0mbson\u001b[0m\u001b[0;34m.\u001b[0m\u001b[0mraw_bson\u001b[0m \u001b[0;32mimport\u001b[0m \u001b[0mRawBSONDocument\u001b[0m\u001b[0;34m\u001b[0m\u001b[0;34m\u001b[0m\u001b[0m\n\u001b[0m\u001b[1;32m     25\u001b[0m \u001b[0;32mfrom\u001b[0m \u001b[0mbson\u001b[0m\u001b[0;34m.\u001b[0m\u001b[0mcodec_options\u001b[0m \u001b[0;32mimport\u001b[0m \u001b[0mCodecOptions\u001b[0m\u001b[0;34m\u001b[0m\u001b[0;34m\u001b[0m\u001b[0m\n\u001b[1;32m     26\u001b[0m \u001b[0;32mfrom\u001b[0m \u001b[0mbson\u001b[0m\u001b[0;34m.\u001b[0m\u001b[0mson\u001b[0m \u001b[0;32mimport\u001b[0m \u001b[0mSON\u001b[0m\u001b[0;34m\u001b[0m\u001b[0;34m\u001b[0m\u001b[0m\n",
      "\u001b[0;32m~/Documents/Grad/MD/flask_demo/venv/lib/python3.9/site-packages/bson/raw_bson.py\u001b[0m in \u001b[0;36m<module>\u001b[0;34m\u001b[0m\n\u001b[1;32m     54\u001b[0m \u001b[0;32mfrom\u001b[0m \u001b[0mcollections\u001b[0m\u001b[0;34m.\u001b[0m\u001b[0mabc\u001b[0m \u001b[0;32mimport\u001b[0m \u001b[0mMapping\u001b[0m \u001b[0;32mas\u001b[0m \u001b[0m_Mapping\u001b[0m\u001b[0;34m\u001b[0m\u001b[0;34m\u001b[0m\u001b[0m\n\u001b[1;32m     55\u001b[0m \u001b[0;34m\u001b[0m\u001b[0m\n\u001b[0;32m---> 56\u001b[0;31m \u001b[0;32mfrom\u001b[0m \u001b[0mbson\u001b[0m \u001b[0;32mimport\u001b[0m \u001b[0m_raw_to_dict\u001b[0m\u001b[0;34m,\u001b[0m \u001b[0m_get_object_size\u001b[0m\u001b[0;34m\u001b[0m\u001b[0;34m\u001b[0m\u001b[0m\n\u001b[0m\u001b[1;32m     57\u001b[0m from bson.codec_options import (\n\u001b[1;32m     58\u001b[0m     DEFAULT_CODEC_OPTIONS as DEFAULT, _RAW_BSON_DOCUMENT_MARKER)\n",
      "\u001b[0;31mImportError\u001b[0m: cannot import name '_raw_to_dict' from 'bson' (/Users/daisy/Documents/Grad/MD/flask_demo/venv/lib/python3.9/site-packages/bson/__init__.py)"
     ]
    }
   ],
   "metadata": {}
  },
  {
   "cell_type": "code",
   "execution_count": null,
   "source": [
    "#SH\n",
    "#Setting Up the Sample Data For Stocks\n",
    "\n",
    "#Pulling Stocks from Stock Using Ticker API\n",
    "msft = yf.Ticker(\"MSFT\").info\n",
    "aapl = yf.Ticker(\"AAPL\").info\n",
    "tsla = yf.Ticker(\"TSLA\").info\n",
    "sony = yf.Ticker(\"SONY\").info\n",
    "mcd = yf.Ticker(\"MCD\").info\n",
    "fb = yf.Ticker(\"FB\").info\n",
    "jpm = yf.Ticker(\"JPM\").info\n",
    "dis = yf.Ticker(\"DIS\").info\n",
    "cost = yf.Ticker(\"COST\").info\n",
    "cvs = yf.Ticker(\"CVS\").info\n",
    "nflx = yf.Ticker(\"NFLX\").info\n",
    "sbux = yf.Ticker(\"SBUX\").info\n",
    "uber = yf.Ticker(\"UBER\").info\n",
    "nke = yf.Ticker(\"NKE\").info\n",
    "amzn = yf.Ticker(\"AMZN\").info\n",
    "pfe = yf.Ticker(\"PFE\").info\n",
    "googl = yf.Ticker(\"GOOGL\").info\n",
    "lrlcy = yf.Ticker(\"LRLCY\").info\n",
    "dell = yf.Ticker(\"DELL\").info\n",
    "unh = yf.Ticker(\"UNH\").info\n",
    "\n",
    "#Pulling ETFs Using Ticker API\n",
    "spy = yf.Ticker('SPY').info\n",
    "vti = yf.Ticker('VTI').info\n",
    "voo = yf.Ticker('VOO').info\n",
    "vwo = yf.Ticker('VWO').info\n",
    "vea = yf.Ticker('VEA').info\n",
    "qqq = yf.Ticker('QQQ').info\n",
    "ivv = yf.Ticker('IVV').info\n",
    "iefa = yf.Ticker('IEFA').info\n",
    "efa = yf.Ticker('EFA').info\n",
    "agg = yf.Ticker('AGG').info"
   ],
   "outputs": [],
   "metadata": {
    "id": "187adf2e-45d9-4a8c-b1b7-8de9d0bdf715"
   }
  },
  {
   "cell_type": "code",
   "execution_count": null,
   "source": [
    "#CK\n",
    "#Edited by SH\n",
    "\n",
    "# Use json.dump to store the above 20 Stocks and 10 largest ETFs into jSon file\n",
    "\n",
    "# The json file where the output must be stored\n",
    "stock_info = [msft, aapl, tsla, sony, mcd, fb, jpm, dis, cost, cvs, nflx, sbux, uber, nke, amzn, pfe, googl, lrlcy, dell, unh, spy, vti, voo, vwo, vea, qqq, ivv, iefa, efa, agg]\n",
    "out_file = open(\"stock_info.json\", \"w\") \n",
    "json.dump(stock_info, out_file, indent = 6)\n",
    "out_file.close()"
   ],
   "outputs": [],
   "metadata": {
    "id": "dfd29740-231b-4693-8571-cd74fbbbc655"
   }
  },
  {
   "cell_type": "code",
   "execution_count": null,
   "source": [
    "#SH\n",
    "with open(\"stock_info.json\", \"r\") as read_file:\n",
    "    stock_info_data = json.load(read_file)"
   ],
   "outputs": [],
   "metadata": {}
  },
  {
   "cell_type": "code",
   "execution_count": null,
   "source": [
    "#SH\n",
    "collection = db.stock_info\n",
    "collection.insert_many(stock_info_data)"
   ],
   "outputs": [
    {
     "output_type": "execute_result",
     "data": {
      "text/plain": [
       "<pymongo.results.InsertManyResult at 0x187bf22c9c0>"
      ]
     },
     "metadata": {},
     "execution_count": 41
    }
   ],
   "metadata": {}
  },
  {
   "cell_type": "code",
   "execution_count": null,
   "source": [
    "#SH\n",
    "msft_prices = requests.get('https://financialmodelingprep.com/api/v3/historical-price-full/MSFT?apikey=9cd6b96b4b472eb298b9178e91959c51').json()\n",
    "aapl_prices = requests.get('https://financialmodelingprep.com/api/v3/historical-price-full/AAPL?apikey=9cd6b96b4b472eb298b9178e91959c51').json()\n",
    "tsla_prices = requests.get('https://financialmodelingprep.com/api/v3/historical-price-full/TSLA?apikey=9cd6b96b4b472eb298b9178e91959c51').json()\n",
    "sony_prices = requests.get('https://financialmodelingprep.com/api/v3/historical-price-full/SONY?apikey=9cd6b96b4b472eb298b9178e91959c51').json()\n",
    "mcd_prices = requests.get('https://financialmodelingprep.com/api/v3/historical-price-full/MCD?apikey=9cd6b96b4b472eb298b9178e91959c51').json()\n",
    "fb_prices = requests.get('https://financialmodelingprep.com/api/v3/historical-price-full/FB?apikey=9cd6b96b4b472eb298b9178e91959c51').json()\n",
    "jpm_prices = requests.get('https://financialmodelingprep.com/api/v3/historical-price-full/JPM?apikey=9cd6b96b4b472eb298b9178e91959c51').json()\n",
    "dis_prices = requests.get('https://financialmodelingprep.com/api/v3/historical-price-full/DIS?apikey=9cd6b96b4b472eb298b9178e91959c51').json()\n",
    "cost_prices = requests.get('https://financialmodelingprep.com/api/v3/historical-price-full/COST?apikey=9cd6b96b4b472eb298b9178e91959c51').json()\n",
    "cvs_prices = requests.get('https://financialmodelingprep.com/api/v3/historical-price-full/CVS?apikey=9cd6b96b4b472eb298b9178e91959c51').json()\n",
    "nflx_prices = requests.get('https://financialmodelingprep.com/api/v3/historical-price-full/NFLX?apikey=9cd6b96b4b472eb298b9178e91959c51').json()\n",
    "sbux_prices = requests.get('https://financialmodelingprep.com/api/v3/historical-price-full/SBUX?apikey=9cd6b96b4b472eb298b9178e91959c51').json()\n",
    "uber_prices = requests.get('https://financialmodelingprep.com/api/v3/historical-price-full/UBER?apikey=9cd6b96b4b472eb298b9178e91959c51').json()\n",
    "nke_prices = requests.get('https://financialmodelingprep.com/api/v3/historical-price-full/NKE?apikey=9cd6b96b4b472eb298b9178e91959c51').json()\n",
    "amzn_prices = requests.get('https://financialmodelingprep.com/api/v3/historical-price-full/AMZN?apikey=9cd6b96b4b472eb298b9178e91959c51').json()\n",
    "pfe_prices = requests.get('https://financialmodelingprep.com/api/v3/historical-price-full/PFE?apikey=9cd6b96b4b472eb298b9178e91959c51').json()\n",
    "googl_prices = requests.get('https://financialmodelingprep.com/api/v3/historical-price-full/GOOGL?apikey=9cd6b96b4b472eb298b9178e91959c51').json()\n",
    "lrlcy_prices = requests.get('https://financialmodelingprep.com/api/v3/historical-price-full/LRLCY?apikey=9cd6b96b4b472eb298b9178e91959c51').json()\n",
    "dell_prices = requests.get('https://financialmodelingprep.com/api/v3/historical-price-full/DELL?apikey=9cd6b96b4b472eb298b9178e91959c51').json()\n",
    "unh_prices = requests.get('https://financialmodelingprep.com/api/v3/historical-price-full/UNH?apikey=9cd6b96b4b472eb298b9178e91959c51').json()\n",
    "spy_prices = requests.get('https://financialmodelingprep.com/api/v3/historical-price-full/SPY?apikey=9cd6b96b4b472eb298b9178e91959c51').json()\n",
    "vti_prices = requests.get('https://financialmodelingprep.com/api/v3/historical-price-full/VTI?apikey=9cd6b96b4b472eb298b9178e91959c51').json()\n",
    "voo_prices = requests.get('https://financialmodelingprep.com/api/v3/historical-price-full/VOO?apikey=9cd6b96b4b472eb298b9178e91959c51').json()\n",
    "vwo_prices = requests.get('https://financialmodelingprep.com/api/v3/historical-price-full/VWO?apikey=9cd6b96b4b472eb298b9178e91959c51').json()\n",
    "vea_prices = requests.get('https://financialmodelingprep.com/api/v3/historical-price-full/VEA?apikey=9cd6b96b4b472eb298b9178e91959c51').json()\n",
    "qqq_prices = requests.get('https://financialmodelingprep.com/api/v3/historical-price-full/QQQ?apikey=9cd6b96b4b472eb298b9178e91959c51').json()\n",
    "ivv_prices = requests.get('https://financialmodelingprep.com/api/v3/historical-price-full/IVV?apikey=9cd6b96b4b472eb298b9178e91959c51').json()\n",
    "iefa_prices = requests.get('https://financialmodelingprep.com/api/v3/historical-price-full/IEFA?apikey=9cd6b96b4b472eb298b9178e91959c51').json()\n",
    "efa_prices = requests.get('https://financialmodelingprep.com/api/v3/historical-price-full/EFA?apikey=9cd6b96b4b472eb298b9178e91959c51').json()\n",
    "agg_prices = requests.get('https://financialmodelingprep.com/api/v3/historical-price-full/AGG?apikey=9cd6b96b4b472eb298b9178e91959c51').json()"
   ],
   "outputs": [],
   "metadata": {}
  },
  {
   "cell_type": "code",
   "execution_count": null,
   "source": [
    "#SH\n",
    "# Use json.dump to store the above 20 Stocks and 10 largest ETFs into etf.jSon file\n",
    "\n",
    "# The json file where the output must be stored\n",
    "prices = [msft_prices, aapl_prices, tsla_prices, sony_prices, mcd_prices, fb_prices, jpm_prices, dis_prices, \n",
    "          cost_prices, cvs_prices, nflx_prices, sbux_prices, uber_prices, nke_prices, amzn_prices, pfe_prices, \n",
    "          googl_prices, lrlcy_prices, dell_prices, unh_prices, spy_prices, vti_prices, voo_prices, vwo_prices, \n",
    "          vea_prices, qqq_prices, ivv_prices, iefa_prices, efa_prices, agg_prices]\n",
    "out_file = open(\"stock_prices.json\", \"w\") \n",
    "json.dump(prices, out_file, indent = 6)\n",
    "out_file.close()"
   ],
   "outputs": [],
   "metadata": {}
  },
  {
   "cell_type": "code",
   "execution_count": null,
   "source": [
    "#SH\n",
    "with open(\"stock_prices.json\", \"r\") as read_file:\n",
    "    stock_prices_data = json.load(read_file)"
   ],
   "outputs": [],
   "metadata": {}
  },
  {
   "cell_type": "code",
   "execution_count": null,
   "source": [
    "#SH\n",
    "collection = db.stock_prices\n",
    "collection.insert_many(stock_prices_data)"
   ],
   "outputs": [
    {
     "output_type": "execute_result",
     "data": {
      "text/plain": [
       "<pymongo.results.InsertManyResult at 0x187bf22c500>"
      ]
     },
     "metadata": {},
     "execution_count": 42
    }
   ],
   "metadata": {}
  },
  {
   "cell_type": "code",
   "execution_count": null,
   "source": [
    "total_docs = collection.count_documents({})\n",
    "total_docs"
   ],
   "outputs": [
    {
     "output_type": "execute_result",
     "data": {
      "text/plain": [
       "30"
      ]
     },
     "metadata": {},
     "execution_count": 45
    }
   ],
   "metadata": {}
  },
  {
   "cell_type": "code",
   "execution_count": null,
   "source": [
    "#This doesn't work properly\n",
    "pd.DataFrame.from_records(db.stock_prices.find())"
   ],
   "outputs": [
    {
     "output_type": "execute_result",
     "data": {
      "text/html": [
       "<div>\n",
       "<style scoped>\n",
       "    .dataframe tbody tr th:only-of-type {\n",
       "        vertical-align: middle;\n",
       "    }\n",
       "\n",
       "    .dataframe tbody tr th {\n",
       "        vertical-align: top;\n",
       "    }\n",
       "\n",
       "    .dataframe thead th {\n",
       "        text-align: right;\n",
       "    }\n",
       "</style>\n",
       "<table border=\"1\" class=\"dataframe\">\n",
       "  <thead>\n",
       "    <tr style=\"text-align: right;\">\n",
       "      <th></th>\n",
       "      <th>_id</th>\n",
       "      <th>symbol</th>\n",
       "      <th>historical</th>\n",
       "    </tr>\n",
       "  </thead>\n",
       "  <tbody>\n",
       "    <tr>\n",
       "      <th>0</th>\n",
       "      <td>61bd5dfaf125e2b589a97b71</td>\n",
       "      <td>MSFT</td>\n",
       "      <td>[{'date': '2021-12-17', 'open': 320.88, 'high'...</td>\n",
       "    </tr>\n",
       "    <tr>\n",
       "      <th>1</th>\n",
       "      <td>61bd5dfaf125e2b589a97b72</td>\n",
       "      <td>AAPL</td>\n",
       "      <td>[{'date': '2021-12-17', 'open': 169.93, 'high'...</td>\n",
       "    </tr>\n",
       "    <tr>\n",
       "      <th>2</th>\n",
       "      <td>61bd5dfaf125e2b589a97b73</td>\n",
       "      <td>TSLA</td>\n",
       "      <td>[{'date': '2021-12-17', 'open': 914.77, 'high'...</td>\n",
       "    </tr>\n",
       "    <tr>\n",
       "      <th>3</th>\n",
       "      <td>61bd5dfaf125e2b589a97b74</td>\n",
       "      <td>SONY</td>\n",
       "      <td>[{'date': '2021-12-17', 'open': 121.4, 'high':...</td>\n",
       "    </tr>\n",
       "    <tr>\n",
       "      <th>4</th>\n",
       "      <td>61bd5dfaf125e2b589a97b75</td>\n",
       "      <td>MCD</td>\n",
       "      <td>[{'date': '2021-12-17', 'open': 264.0, 'high':...</td>\n",
       "    </tr>\n",
       "    <tr>\n",
       "      <th>5</th>\n",
       "      <td>61bd5dfaf125e2b589a97b76</td>\n",
       "      <td>FB</td>\n",
       "      <td>[{'date': '2021-12-17', 'open': 332.795, 'high...</td>\n",
       "    </tr>\n",
       "    <tr>\n",
       "      <th>6</th>\n",
       "      <td>61bd5dfaf125e2b589a97b77</td>\n",
       "      <td>JPM</td>\n",
       "      <td>[{'date': '2021-12-17', 'open': 159.315, 'high...</td>\n",
       "    </tr>\n",
       "    <tr>\n",
       "      <th>7</th>\n",
       "      <td>61bd5dfaf125e2b589a97b78</td>\n",
       "      <td>DIS</td>\n",
       "      <td>[{'date': '2021-12-17', 'open': 148.51, 'high'...</td>\n",
       "    </tr>\n",
       "    <tr>\n",
       "      <th>8</th>\n",
       "      <td>61bd5dfaf125e2b589a97b79</td>\n",
       "      <td>COST</td>\n",
       "      <td>[{'date': '2021-12-17', 'open': 549.32, 'high'...</td>\n",
       "    </tr>\n",
       "    <tr>\n",
       "      <th>9</th>\n",
       "      <td>61bd5dfaf125e2b589a97b7a</td>\n",
       "      <td>CVS</td>\n",
       "      <td>[{'date': '2021-12-17', 'open': 101.38, 'high'...</td>\n",
       "    </tr>\n",
       "    <tr>\n",
       "      <th>10</th>\n",
       "      <td>61bd5dfaf125e2b589a97b7b</td>\n",
       "      <td>NFLX</td>\n",
       "      <td>[{'date': '2021-12-17', 'open': 591.61, 'high'...</td>\n",
       "    </tr>\n",
       "    <tr>\n",
       "      <th>11</th>\n",
       "      <td>61bd5dfaf125e2b589a97b7c</td>\n",
       "      <td>SBUX</td>\n",
       "      <td>[{'date': '2021-12-17', 'open': 111.27, 'high'...</td>\n",
       "    </tr>\n",
       "    <tr>\n",
       "      <th>12</th>\n",
       "      <td>61bd5dfaf125e2b589a97b7d</td>\n",
       "      <td>UBER</td>\n",
       "      <td>[{'date': '2021-12-17', 'open': 37.2, 'high': ...</td>\n",
       "    </tr>\n",
       "    <tr>\n",
       "      <th>13</th>\n",
       "      <td>61bd5dfaf125e2b589a97b7e</td>\n",
       "      <td>NKE</td>\n",
       "      <td>[{'date': '2021-12-17', 'open': 161.63, 'high'...</td>\n",
       "    </tr>\n",
       "    <tr>\n",
       "      <th>14</th>\n",
       "      <td>61bd5dfaf125e2b589a97b7f</td>\n",
       "      <td>AMZN</td>\n",
       "      <td>[{'date': '2021-12-17', 'open': 3354.21, 'high...</td>\n",
       "    </tr>\n",
       "    <tr>\n",
       "      <th>15</th>\n",
       "      <td>61bd5dfaf125e2b589a97b80</td>\n",
       "      <td>PFE</td>\n",
       "      <td>[{'date': '2021-12-17', 'open': 59.93, 'high':...</td>\n",
       "    </tr>\n",
       "    <tr>\n",
       "      <th>16</th>\n",
       "      <td>61bd5dfaf125e2b589a97b81</td>\n",
       "      <td>GOOGL</td>\n",
       "      <td>[{'date': '2021-12-17', 'open': 2850.0, 'high'...</td>\n",
       "    </tr>\n",
       "    <tr>\n",
       "      <th>17</th>\n",
       "      <td>61bd5dfaf125e2b589a97b82</td>\n",
       "      <td>LRLCY</td>\n",
       "      <td>[{'date': '2021-12-17', 'open': 92.87, 'high':...</td>\n",
       "    </tr>\n",
       "    <tr>\n",
       "      <th>18</th>\n",
       "      <td>61bd5dfaf125e2b589a97b83</td>\n",
       "      <td>DELL</td>\n",
       "      <td>[{'date': '2021-12-17', 'open': 54.92, 'high':...</td>\n",
       "    </tr>\n",
       "    <tr>\n",
       "      <th>19</th>\n",
       "      <td>61bd5dfaf125e2b589a97b84</td>\n",
       "      <td>UNH</td>\n",
       "      <td>[{'date': '2021-12-17', 'open': 491.42, 'high'...</td>\n",
       "    </tr>\n",
       "    <tr>\n",
       "      <th>20</th>\n",
       "      <td>61bd5dfaf125e2b589a97b85</td>\n",
       "      <td>SPY</td>\n",
       "      <td>[{'date': '2021-12-17', 'open': 461.55, 'high'...</td>\n",
       "    </tr>\n",
       "    <tr>\n",
       "      <th>21</th>\n",
       "      <td>61bd5dfaf125e2b589a97b86</td>\n",
       "      <td>VTI</td>\n",
       "      <td>[{'date': '2021-12-17', 'open': 235.0, 'high':...</td>\n",
       "    </tr>\n",
       "    <tr>\n",
       "      <th>22</th>\n",
       "      <td>61bd5dfaf125e2b589a97b87</td>\n",
       "      <td>VOO</td>\n",
       "      <td>[{'date': '2021-12-17', 'open': 425.85, 'high'...</td>\n",
       "    </tr>\n",
       "    <tr>\n",
       "      <th>23</th>\n",
       "      <td>61bd5dfaf125e2b589a97b88</td>\n",
       "      <td>VWO</td>\n",
       "      <td>[{'date': '2021-12-17', 'open': 48.87, 'high':...</td>\n",
       "    </tr>\n",
       "    <tr>\n",
       "      <th>24</th>\n",
       "      <td>61bd5dfaf125e2b589a97b89</td>\n",
       "      <td>VEA</td>\n",
       "      <td>[{'date': '2021-12-17', 'open': 50.64, 'high':...</td>\n",
       "    </tr>\n",
       "    <tr>\n",
       "      <th>25</th>\n",
       "      <td>61bd5dfaf125e2b589a97b8a</td>\n",
       "      <td>QQQ</td>\n",
       "      <td>[{'date': '2021-12-17', 'open': 383.33, 'high'...</td>\n",
       "    </tr>\n",
       "    <tr>\n",
       "      <th>26</th>\n",
       "      <td>61bd5dfaf125e2b589a97b8b</td>\n",
       "      <td>IVV</td>\n",
       "      <td>[{'date': '2021-12-17', 'open': 463.52, 'high'...</td>\n",
       "    </tr>\n",
       "    <tr>\n",
       "      <th>27</th>\n",
       "      <td>61bd5dfaf125e2b589a97b8c</td>\n",
       "      <td>IEFA</td>\n",
       "      <td>[{'date': '2021-12-17', 'open': 72.95, 'high':...</td>\n",
       "    </tr>\n",
       "    <tr>\n",
       "      <th>28</th>\n",
       "      <td>61bd5dfaf125e2b589a97b8d</td>\n",
       "      <td>EFA</td>\n",
       "      <td>[{'date': '2021-12-17', 'open': 77.06, 'high':...</td>\n",
       "    </tr>\n",
       "    <tr>\n",
       "      <th>29</th>\n",
       "      <td>61bd5dfaf125e2b589a97b8e</td>\n",
       "      <td>AGG</td>\n",
       "      <td>[{'date': '2021-12-17', 'open': 114.55, 'high'...</td>\n",
       "    </tr>\n",
       "  </tbody>\n",
       "</table>\n",
       "</div>"
      ],
      "text/plain": [
       "                         _id symbol  \\\n",
       "0   61bd5dfaf125e2b589a97b71   MSFT   \n",
       "1   61bd5dfaf125e2b589a97b72   AAPL   \n",
       "2   61bd5dfaf125e2b589a97b73   TSLA   \n",
       "3   61bd5dfaf125e2b589a97b74   SONY   \n",
       "4   61bd5dfaf125e2b589a97b75    MCD   \n",
       "5   61bd5dfaf125e2b589a97b76     FB   \n",
       "6   61bd5dfaf125e2b589a97b77    JPM   \n",
       "7   61bd5dfaf125e2b589a97b78    DIS   \n",
       "8   61bd5dfaf125e2b589a97b79   COST   \n",
       "9   61bd5dfaf125e2b589a97b7a    CVS   \n",
       "10  61bd5dfaf125e2b589a97b7b   NFLX   \n",
       "11  61bd5dfaf125e2b589a97b7c   SBUX   \n",
       "12  61bd5dfaf125e2b589a97b7d   UBER   \n",
       "13  61bd5dfaf125e2b589a97b7e    NKE   \n",
       "14  61bd5dfaf125e2b589a97b7f   AMZN   \n",
       "15  61bd5dfaf125e2b589a97b80    PFE   \n",
       "16  61bd5dfaf125e2b589a97b81  GOOGL   \n",
       "17  61bd5dfaf125e2b589a97b82  LRLCY   \n",
       "18  61bd5dfaf125e2b589a97b83   DELL   \n",
       "19  61bd5dfaf125e2b589a97b84    UNH   \n",
       "20  61bd5dfaf125e2b589a97b85    SPY   \n",
       "21  61bd5dfaf125e2b589a97b86    VTI   \n",
       "22  61bd5dfaf125e2b589a97b87    VOO   \n",
       "23  61bd5dfaf125e2b589a97b88    VWO   \n",
       "24  61bd5dfaf125e2b589a97b89    VEA   \n",
       "25  61bd5dfaf125e2b589a97b8a    QQQ   \n",
       "26  61bd5dfaf125e2b589a97b8b    IVV   \n",
       "27  61bd5dfaf125e2b589a97b8c   IEFA   \n",
       "28  61bd5dfaf125e2b589a97b8d    EFA   \n",
       "29  61bd5dfaf125e2b589a97b8e    AGG   \n",
       "\n",
       "                                           historical  \n",
       "0   [{'date': '2021-12-17', 'open': 320.88, 'high'...  \n",
       "1   [{'date': '2021-12-17', 'open': 169.93, 'high'...  \n",
       "2   [{'date': '2021-12-17', 'open': 914.77, 'high'...  \n",
       "3   [{'date': '2021-12-17', 'open': 121.4, 'high':...  \n",
       "4   [{'date': '2021-12-17', 'open': 264.0, 'high':...  \n",
       "5   [{'date': '2021-12-17', 'open': 332.795, 'high...  \n",
       "6   [{'date': '2021-12-17', 'open': 159.315, 'high...  \n",
       "7   [{'date': '2021-12-17', 'open': 148.51, 'high'...  \n",
       "8   [{'date': '2021-12-17', 'open': 549.32, 'high'...  \n",
       "9   [{'date': '2021-12-17', 'open': 101.38, 'high'...  \n",
       "10  [{'date': '2021-12-17', 'open': 591.61, 'high'...  \n",
       "11  [{'date': '2021-12-17', 'open': 111.27, 'high'...  \n",
       "12  [{'date': '2021-12-17', 'open': 37.2, 'high': ...  \n",
       "13  [{'date': '2021-12-17', 'open': 161.63, 'high'...  \n",
       "14  [{'date': '2021-12-17', 'open': 3354.21, 'high...  \n",
       "15  [{'date': '2021-12-17', 'open': 59.93, 'high':...  \n",
       "16  [{'date': '2021-12-17', 'open': 2850.0, 'high'...  \n",
       "17  [{'date': '2021-12-17', 'open': 92.87, 'high':...  \n",
       "18  [{'date': '2021-12-17', 'open': 54.92, 'high':...  \n",
       "19  [{'date': '2021-12-17', 'open': 491.42, 'high'...  \n",
       "20  [{'date': '2021-12-17', 'open': 461.55, 'high'...  \n",
       "21  [{'date': '2021-12-17', 'open': 235.0, 'high':...  \n",
       "22  [{'date': '2021-12-17', 'open': 425.85, 'high'...  \n",
       "23  [{'date': '2021-12-17', 'open': 48.87, 'high':...  \n",
       "24  [{'date': '2021-12-17', 'open': 50.64, 'high':...  \n",
       "25  [{'date': '2021-12-17', 'open': 383.33, 'high'...  \n",
       "26  [{'date': '2021-12-17', 'open': 463.52, 'high'...  \n",
       "27  [{'date': '2021-12-17', 'open': 72.95, 'high':...  \n",
       "28  [{'date': '2021-12-17', 'open': 77.06, 'high':...  \n",
       "29  [{'date': '2021-12-17', 'open': 114.55, 'high'...  "
      ]
     },
     "metadata": {},
     "execution_count": 44
    }
   ],
   "metadata": {
    "tags": []
   }
  }
 ],
 "metadata": {
  "kernelspec": {
   "name": "python3",
   "display_name": "Python 3.9.7 64-bit ('venv': venv)"
  },
  "language_info": {
   "codemirror_mode": {
    "name": "ipython",
    "version": 3
   },
   "file_extension": ".py",
   "mimetype": "text/x-python",
   "name": "python",
   "nbconvert_exporter": "python",
   "pygments_lexer": "ipython3",
   "version": "3.9.7"
  },
  "interpreter": {
   "hash": "33e69ca21f07249c29a58983a5fc8a60964b05eb6ed79a95c8c4dcddc326ad52"
  }
 },
 "nbformat": 4,
 "nbformat_minor": 5
}